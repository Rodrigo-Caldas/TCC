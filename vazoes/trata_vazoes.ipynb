{
 "cells": [
  {
   "cell_type": "code",
   "execution_count": 1,
   "id": "f3d5404f",
   "metadata": {},
   "outputs": [],
   "source": [
    "import pandas as pd\n",
    "import polars as pl"
   ]
  },
  {
   "cell_type": "code",
   "execution_count": null,
   "id": "e9cc7a2f",
   "metadata": {},
   "outputs": [],
   "source": [
    "data = pd.date_range(start=\"1931-01-01\", end=\"2023-12-31\", freq=\"D\")\n",
    "df = pd.read_excel(\"Vazões_Diárias_1931_2023.xls\", skiprows=5).drop(0)\n",
    "df.set_index(data, inplace=True)\n",
    "df.drop(columns=\"Unnamed: 0\", inplace=True)"
   ]
  },
  {
   "cell_type": "code",
   "execution_count": 21,
   "id": "2f9da033",
   "metadata": {},
   "outputs": [],
   "source": [
    "df.to_csv(\"media_diarias.xls\")"
   ]
  }
 ],
 "metadata": {
  "kernelspec": {
   "display_name": "teste",
   "language": "python",
   "name": "python3"
  },
  "language_info": {
   "codemirror_mode": {
    "name": "ipython",
    "version": 3
   },
   "file_extension": ".py",
   "mimetype": "text/x-python",
   "name": "python",
   "nbconvert_exporter": "python",
   "pygments_lexer": "ipython3",
   "version": "3.12.9"
  }
 },
 "nbformat": 4,
 "nbformat_minor": 5
}
