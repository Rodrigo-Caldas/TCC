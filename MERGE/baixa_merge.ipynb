{
 "cells": [
  {
   "cell_type": "code",
   "execution_count": 1,
   "id": "f911e777",
   "metadata": {},
   "outputs": [],
   "source": [
    "import httpx\n",
    "import asyncio\n",
    "import pandas as pd\n",
    "from pathlib import Path"
   ]
  },
  {
   "cell_type": "markdown",
   "id": "c9eb568f",
   "metadata": {},
   "source": [
    "## Baixa Merge"
   ]
  },
  {
   "cell_type": "code",
   "execution_count": null,
   "id": "d4559caf",
   "metadata": {},
   "outputs": [],
   "source": [
    "url_base = 'https://ftp.cptec.inpe.br/modelos/tempo/MERGE/GPM/HOURLY'\n",
    "diretorio = \"MERGE\"\n",
    "limitador_tarefas = asyncio.Semaphore(7)"
   ]
  },
  {
   "cell_type": "code",
   "execution_count": 3,
   "id": "e6cf0d24",
   "metadata": {},
   "outputs": [],
   "source": [
    "inicio = \"2019-08-13\"\n",
    "fim = \"2023-12-31\"\n",
    "\n",
    "datas = pd.date_range(start=inicio, end=fim, freq=\"D\").tolist()"
   ]
  },
  {
   "cell_type": "code",
   "execution_count": 4,
   "id": "770b877a",
   "metadata": {},
   "outputs": [],
   "source": [
    "async def obter_merge(data: pd.Timestamp) -> None:\n",
    "    \"\"\"\n",
    "    Baixa MERGE.\n",
    "\n",
    "    Parameters\n",
    "    ----------\n",
    "    data : pd.Timestamp\n",
    "        Timestamp\n",
    "    \"\"\"\n",
    "    async with limitador_tarefas:\n",
    "        async with httpx.AsyncClient() as cliente:\n",
    "\n",
    "            for hora in range (0, 24):\n",
    "                hora_str = str(f\"{hora:02}\")\n",
    "                arquivo = f'MERGE_CPTEC_{data.year}{data.strftime(\"%m\")}{data.strftime(\"%d\")}{hora_str}.grib2'\n",
    "                url_requisicao = (\n",
    "                        f\"{url_base}/{data.year}/{data.strftime(\"%m\")}/{data.strftime(\"%d\")}/{arquivo}\"\n",
    "                    )\n",
    "                print(url_requisicao)\n",
    "                \n",
    "                resposta = await cliente.get(url_requisicao, timeout=30)\n",
    "                await asyncio.sleep(2)\n",
    "\n",
    "                resposta = await cliente.get(url_requisicao, timeout=None)\n",
    "\n",
    "                if resposta.status_code == 200:\n",
    "                    conteudo = resposta.content\n",
    "                    diretorio_saida = Path(diretorio, arquivo)\n",
    "\n",
    "                    with open(diretorio_saida, \"wb\") as arquivo_:\n",
    "                        arquivo_.write(conteudo)\n",
    "                        \n",
    "                    print(f\"{arquivo} [ok]\")\n",
    "\n",
    "                else:\n",
    "                    print(f\"Não foi possível obter o {arquivo}.\")\n",
    "                    print(url_requisicao)"
   ]
  },
  {
   "cell_type": "code",
   "execution_count": 5,
   "id": "298d8ccb",
   "metadata": {},
   "outputs": [
    {
     "name": "stdout",
     "output_type": "stream",
     "text": [
      "https://ftp.cptec.inpe.br/modelos/tempo/MERGE/GPM/HOURLY//2020/03/31/MERGE_CPTEC_2020033100.grib2\n",
      "https://ftp.cptec.inpe.br/modelos/tempo/MERGE/GPM/HOURLY//2021/04/19/MERGE_CPTEC_2021041900.grib2\n",
      "https://ftp.cptec.inpe.br/modelos/tempo/MERGE/GPM/HOURLY//2022/05/08/MERGE_CPTEC_2022050800.grib2\n",
      "https://ftp.cptec.inpe.br/modelos/tempo/MERGE/GPM/HOURLY//2023/05/27/MERGE_CPTEC_2023052700.grib2\n",
      "https://ftp.cptec.inpe.br/modelos/tempo/MERGE/GPM/HOURLY//2020/04/01/MERGE_CPTEC_2020040100.grib2\n",
      "https://ftp.cptec.inpe.br/modelos/tempo/MERGE/GPM/HOURLY//2021/04/20/MERGE_CPTEC_2021042000.grib2\n",
      "https://ftp.cptec.inpe.br/modelos/tempo/MERGE/GPM/HOURLY//2022/05/09/MERGE_CPTEC_2022050900.grib2\n",
      "https://ftp.cptec.inpe.br/modelos/tempo/MERGE/GPM/HOURLY//2023/05/28/MERGE_CPTEC_2023052800.grib2\n"
     ]
    },
    {
     "ename": "FileNotFoundError",
     "evalue": "[Errno 2] No such file or directory: 'MERGE/MERGE_CPTEC_2023052700.grib2'",
     "output_type": "error",
     "traceback": [
      "\u001b[0;31m---------------------------------------------------------------------------\u001b[0m",
      "\u001b[0;31mFileNotFoundError\u001b[0m                         Traceback (most recent call last)",
      "Cell \u001b[0;32mIn[5], line 7\u001b[0m\n\u001b[1;32m      4\u001b[0m     task \u001b[38;5;241m=\u001b[39m obter_merge(data)\n\u001b[1;32m      5\u001b[0m     agendadas\u001b[38;5;241m.\u001b[39madd(task)\n\u001b[0;32m----> 7\u001b[0m \u001b[38;5;28;01mawait\u001b[39;00m asyncio\u001b[38;5;241m.\u001b[39mgather(\u001b[38;5;241m*\u001b[39magendadas)\n",
      "Cell \u001b[0;32mIn[4], line 30\u001b[0m, in \u001b[0;36mobter_merge\u001b[0;34m(data)\u001b[0m\n\u001b[1;32m     27\u001b[0m conteudo \u001b[38;5;241m=\u001b[39m resposta\u001b[38;5;241m.\u001b[39mcontent\n\u001b[1;32m     28\u001b[0m diretorio_saida \u001b[38;5;241m=\u001b[39m Path(diretorio, arquivo)\n\u001b[0;32m---> 30\u001b[0m \u001b[38;5;28;01mwith\u001b[39;00m \u001b[38;5;28;43mopen\u001b[39;49m\u001b[43m(\u001b[49m\u001b[43mdiretorio_saida\u001b[49m\u001b[43m,\u001b[49m\u001b[43m \u001b[49m\u001b[38;5;124;43m\"\u001b[39;49m\u001b[38;5;124;43mwb\u001b[39;49m\u001b[38;5;124;43m\"\u001b[39;49m\u001b[43m)\u001b[49m \u001b[38;5;28;01mas\u001b[39;00m arquivo_:\n\u001b[1;32m     31\u001b[0m     arquivo_\u001b[38;5;241m.\u001b[39mwrite(conteudo)\n\u001b[1;32m     33\u001b[0m \u001b[38;5;28mprint\u001b[39m(\u001b[38;5;124mf\u001b[39m\u001b[38;5;124m\"\u001b[39m\u001b[38;5;132;01m{\u001b[39;00marquivo\u001b[38;5;132;01m}\u001b[39;00m\u001b[38;5;124m [ok]\u001b[39m\u001b[38;5;124m\"\u001b[39m)\n",
      "File \u001b[0;32m~/miniforge3/envs/tcc/lib/python3.12/site-packages/IPython/core/interactiveshell.py:324\u001b[0m, in \u001b[0;36m_modified_open\u001b[0;34m(file, *args, **kwargs)\u001b[0m\n\u001b[1;32m    317\u001b[0m \u001b[38;5;28;01mif\u001b[39;00m file \u001b[38;5;129;01min\u001b[39;00m {\u001b[38;5;241m0\u001b[39m, \u001b[38;5;241m1\u001b[39m, \u001b[38;5;241m2\u001b[39m}:\n\u001b[1;32m    318\u001b[0m     \u001b[38;5;28;01mraise\u001b[39;00m \u001b[38;5;167;01mValueError\u001b[39;00m(\n\u001b[1;32m    319\u001b[0m         \u001b[38;5;124mf\u001b[39m\u001b[38;5;124m\"\u001b[39m\u001b[38;5;124mIPython won\u001b[39m\u001b[38;5;124m'\u001b[39m\u001b[38;5;124mt let you open fd=\u001b[39m\u001b[38;5;132;01m{\u001b[39;00mfile\u001b[38;5;132;01m}\u001b[39;00m\u001b[38;5;124m by default \u001b[39m\u001b[38;5;124m\"\u001b[39m\n\u001b[1;32m    320\u001b[0m         \u001b[38;5;124m\"\u001b[39m\u001b[38;5;124mas it is likely to crash IPython. If you know what you are doing, \u001b[39m\u001b[38;5;124m\"\u001b[39m\n\u001b[1;32m    321\u001b[0m         \u001b[38;5;124m\"\u001b[39m\u001b[38;5;124myou can use builtins\u001b[39m\u001b[38;5;124m'\u001b[39m\u001b[38;5;124m open.\u001b[39m\u001b[38;5;124m\"\u001b[39m\n\u001b[1;32m    322\u001b[0m     )\n\u001b[0;32m--> 324\u001b[0m \u001b[38;5;28;01mreturn\u001b[39;00m \u001b[43mio_open\u001b[49m\u001b[43m(\u001b[49m\u001b[43mfile\u001b[49m\u001b[43m,\u001b[49m\u001b[43m \u001b[49m\u001b[38;5;241;43m*\u001b[39;49m\u001b[43margs\u001b[49m\u001b[43m,\u001b[49m\u001b[43m \u001b[49m\u001b[38;5;241;43m*\u001b[39;49m\u001b[38;5;241;43m*\u001b[39;49m\u001b[43mkwargs\u001b[49m\u001b[43m)\u001b[49m\n",
      "\u001b[0;31mFileNotFoundError\u001b[0m: [Errno 2] No such file or directory: 'MERGE/MERGE_CPTEC_2023052700.grib2'"
     ]
    },
    {
     "name": "stdout",
     "output_type": "stream",
     "text": [
      "https://ftp.cptec.inpe.br/modelos/tempo/MERGE/GPM/HOURLY//2020/04/02/MERGE_CPTEC_2020040200.grib2\n",
      "https://ftp.cptec.inpe.br/modelos/tempo/MERGE/GPM/HOURLY//2021/04/21/MERGE_CPTEC_2021042100.grib2\n",
      "https://ftp.cptec.inpe.br/modelos/tempo/MERGE/GPM/HOURLY//2022/05/10/MERGE_CPTEC_2022051000.grib2\n",
      "https://ftp.cptec.inpe.br/modelos/tempo/MERGE/GPM/HOURLY//2023/05/29/MERGE_CPTEC_2023052900.grib2\n",
      "https://ftp.cptec.inpe.br/modelos/tempo/MERGE/GPM/HOURLY//2020/04/03/MERGE_CPTEC_2020040300.grib2\n",
      "https://ftp.cptec.inpe.br/modelos/tempo/MERGE/GPM/HOURLY//2021/04/22/MERGE_CPTEC_2021042200.grib2\n",
      "https://ftp.cptec.inpe.br/modelos/tempo/MERGE/GPM/HOURLY//2022/05/11/MERGE_CPTEC_2022051100.grib2\n",
      "https://ftp.cptec.inpe.br/modelos/tempo/MERGE/GPM/HOURLY//2023/05/30/MERGE_CPTEC_2023053000.grib2\n",
      "https://ftp.cptec.inpe.br/modelos/tempo/MERGE/GPM/HOURLY//2020/04/04/MERGE_CPTEC_2020040400.grib2\n",
      "https://ftp.cptec.inpe.br/modelos/tempo/MERGE/GPM/HOURLY//2021/04/23/MERGE_CPTEC_2021042300.grib2\n",
      "https://ftp.cptec.inpe.br/modelos/tempo/MERGE/GPM/HOURLY//2022/05/12/MERGE_CPTEC_2022051200.grib2\n",
      "https://ftp.cptec.inpe.br/modelos/tempo/MERGE/GPM/HOURLY//2023/05/31/MERGE_CPTEC_2023053100.grib2\n",
      "https://ftp.cptec.inpe.br/modelos/tempo/MERGE/GPM/HOURLY//2020/04/05/MERGE_CPTEC_2020040500.grib2\n",
      "https://ftp.cptec.inpe.br/modelos/tempo/MERGE/GPM/HOURLY//2021/04/24/MERGE_CPTEC_2021042400.grib2\n",
      "https://ftp.cptec.inpe.br/modelos/tempo/MERGE/GPM/HOURLY//2022/05/13/MERGE_CPTEC_2022051300.grib2\n",
      "https://ftp.cptec.inpe.br/modelos/tempo/MERGE/GPM/HOURLY//2023/06/01/MERGE_CPTEC_2023060100.grib2\n",
      "https://ftp.cptec.inpe.br/modelos/tempo/MERGE/GPM/HOURLY//2020/04/06/MERGE_CPTEC_2020040600.grib2\n",
      "https://ftp.cptec.inpe.br/modelos/tempo/MERGE/GPM/HOURLY//2021/04/25/MERGE_CPTEC_2021042500.grib2\n",
      "https://ftp.cptec.inpe.br/modelos/tempo/MERGE/GPM/HOURLY//2022/05/14/MERGE_CPTEC_2022051400.grib2\n",
      "https://ftp.cptec.inpe.br/modelos/tempo/MERGE/GPM/HOURLY//2023/06/02/MERGE_CPTEC_2023060200.grib2\n",
      "https://ftp.cptec.inpe.br/modelos/tempo/MERGE/GPM/HOURLY//2020/04/07/MERGE_CPTEC_2020040700.grib2\n",
      "https://ftp.cptec.inpe.br/modelos/tempo/MERGE/GPM/HOURLY//2021/04/26/MERGE_CPTEC_2021042600.grib2\n",
      "https://ftp.cptec.inpe.br/modelos/tempo/MERGE/GPM/HOURLY//2022/05/15/MERGE_CPTEC_2022051500.grib2\n",
      "https://ftp.cptec.inpe.br/modelos/tempo/MERGE/GPM/HOURLY//2023/06/03/MERGE_CPTEC_2023060300.grib2\n",
      "https://ftp.cptec.inpe.br/modelos/tempo/MERGE/GPM/HOURLY//2020/04/08/MERGE_CPTEC_2020040800.grib2\n",
      "https://ftp.cptec.inpe.br/modelos/tempo/MERGE/GPM/HOURLY//2021/04/27/MERGE_CPTEC_2021042700.grib2\n",
      "https://ftp.cptec.inpe.br/modelos/tempo/MERGE/GPM/HOURLY//2022/05/16/MERGE_CPTEC_2022051600.grib2\n",
      "https://ftp.cptec.inpe.br/modelos/tempo/MERGE/GPM/HOURLY//2023/06/04/MERGE_CPTEC_2023060400.grib2\n",
      "https://ftp.cptec.inpe.br/modelos/tempo/MERGE/GPM/HOURLY//2020/04/09/MERGE_CPTEC_2020040900.grib2\n",
      "https://ftp.cptec.inpe.br/modelos/tempo/MERGE/GPM/HOURLY//2021/04/28/MERGE_CPTEC_2021042800.grib2\n",
      "https://ftp.cptec.inpe.br/modelos/tempo/MERGE/GPM/HOURLY//2022/05/17/MERGE_CPTEC_2022051700.grib2\n",
      "https://ftp.cptec.inpe.br/modelos/tempo/MERGE/GPM/HOURLY//2023/06/05/MERGE_CPTEC_2023060500.grib2\n",
      "https://ftp.cptec.inpe.br/modelos/tempo/MERGE/GPM/HOURLY//2020/04/10/MERGE_CPTEC_2020041000.grib2\n",
      "https://ftp.cptec.inpe.br/modelos/tempo/MERGE/GPM/HOURLY//2021/04/29/MERGE_CPTEC_2021042900.grib2\n",
      "https://ftp.cptec.inpe.br/modelos/tempo/MERGE/GPM/HOURLY//2022/05/18/MERGE_CPTEC_2022051800.grib2\n",
      "https://ftp.cptec.inpe.br/modelos/tempo/MERGE/GPM/HOURLY//2023/06/06/MERGE_CPTEC_2023060600.grib2\n",
      "https://ftp.cptec.inpe.br/modelos/tempo/MERGE/GPM/HOURLY//2020/04/11/MERGE_CPTEC_2020041100.grib2\n",
      "https://ftp.cptec.inpe.br/modelos/tempo/MERGE/GPM/HOURLY//2021/04/30/MERGE_CPTEC_2021043000.grib2\n",
      "https://ftp.cptec.inpe.br/modelos/tempo/MERGE/GPM/HOURLY//2022/05/19/MERGE_CPTEC_2022051900.grib2\n",
      "https://ftp.cptec.inpe.br/modelos/tempo/MERGE/GPM/HOURLY//2023/06/07/MERGE_CPTEC_2023060700.grib2\n",
      "https://ftp.cptec.inpe.br/modelos/tempo/MERGE/GPM/HOURLY//2020/04/12/MERGE_CPTEC_2020041200.grib2\n",
      "https://ftp.cptec.inpe.br/modelos/tempo/MERGE/GPM/HOURLY//2021/05/01/MERGE_CPTEC_2021050100.grib2\n",
      "https://ftp.cptec.inpe.br/modelos/tempo/MERGE/GPM/HOURLY//2022/05/20/MERGE_CPTEC_2022052000.grib2\n",
      "https://ftp.cptec.inpe.br/modelos/tempo/MERGE/GPM/HOURLY//2023/06/08/MERGE_CPTEC_2023060800.grib2\n",
      "https://ftp.cptec.inpe.br/modelos/tempo/MERGE/GPM/HOURLY//2020/04/13/MERGE_CPTEC_2020041300.grib2\n",
      "https://ftp.cptec.inpe.br/modelos/tempo/MERGE/GPM/HOURLY//2021/05/02/MERGE_CPTEC_2021050200.grib2\n",
      "https://ftp.cptec.inpe.br/modelos/tempo/MERGE/GPM/HOURLY//2022/05/21/MERGE_CPTEC_2022052100.grib2\n",
      "https://ftp.cptec.inpe.br/modelos/tempo/MERGE/GPM/HOURLY//2023/06/09/MERGE_CPTEC_2023060900.grib2\n",
      "https://ftp.cptec.inpe.br/modelos/tempo/MERGE/GPM/HOURLY//2020/04/14/MERGE_CPTEC_2020041400.grib2\n",
      "https://ftp.cptec.inpe.br/modelos/tempo/MERGE/GPM/HOURLY//2021/05/03/MERGE_CPTEC_2021050300.grib2\n",
      "https://ftp.cptec.inpe.br/modelos/tempo/MERGE/GPM/HOURLY//2022/05/22/MERGE_CPTEC_2022052200.grib2\n",
      "https://ftp.cptec.inpe.br/modelos/tempo/MERGE/GPM/HOURLY//2023/06/10/MERGE_CPTEC_2023061000.grib2\n",
      "https://ftp.cptec.inpe.br/modelos/tempo/MERGE/GPM/HOURLY//2020/04/15/MERGE_CPTEC_2020041500.grib2\n",
      "https://ftp.cptec.inpe.br/modelos/tempo/MERGE/GPM/HOURLY//2021/05/04/MERGE_CPTEC_2021050400.grib2\n",
      "https://ftp.cptec.inpe.br/modelos/tempo/MERGE/GPM/HOURLY//2022/05/23/MERGE_CPTEC_2022052300.grib2\n",
      "https://ftp.cptec.inpe.br/modelos/tempo/MERGE/GPM/HOURLY//2023/06/11/MERGE_CPTEC_2023061100.grib2\n",
      "https://ftp.cptec.inpe.br/modelos/tempo/MERGE/GPM/HOURLY//2020/04/16/MERGE_CPTEC_2020041600.grib2\n",
      "https://ftp.cptec.inpe.br/modelos/tempo/MERGE/GPM/HOURLY//2021/05/05/MERGE_CPTEC_2021050500.grib2\n",
      "https://ftp.cptec.inpe.br/modelos/tempo/MERGE/GPM/HOURLY//2022/05/24/MERGE_CPTEC_2022052400.grib2\n",
      "https://ftp.cptec.inpe.br/modelos/tempo/MERGE/GPM/HOURLY//2023/06/12/MERGE_CPTEC_2023061200.grib2\n",
      "https://ftp.cptec.inpe.br/modelos/tempo/MERGE/GPM/HOURLY//2020/04/17/MERGE_CPTEC_2020041700.grib2\n",
      "https://ftp.cptec.inpe.br/modelos/tempo/MERGE/GPM/HOURLY//2021/05/06/MERGE_CPTEC_2021050600.grib2\n",
      "https://ftp.cptec.inpe.br/modelos/tempo/MERGE/GPM/HOURLY//2022/05/25/MERGE_CPTEC_2022052500.grib2\n",
      "https://ftp.cptec.inpe.br/modelos/tempo/MERGE/GPM/HOURLY//2023/06/13/MERGE_CPTEC_2023061300.grib2\n",
      "https://ftp.cptec.inpe.br/modelos/tempo/MERGE/GPM/HOURLY//2020/04/18/MERGE_CPTEC_2020041800.grib2\n",
      "https://ftp.cptec.inpe.br/modelos/tempo/MERGE/GPM/HOURLY//2021/05/07/MERGE_CPTEC_2021050700.grib2\n",
      "https://ftp.cptec.inpe.br/modelos/tempo/MERGE/GPM/HOURLY//2022/05/26/MERGE_CPTEC_2022052600.grib2\n",
      "https://ftp.cptec.inpe.br/modelos/tempo/MERGE/GPM/HOURLY//2023/06/14/MERGE_CPTEC_2023061400.grib2\n",
      "https://ftp.cptec.inpe.br/modelos/tempo/MERGE/GPM/HOURLY//2020/04/19/MERGE_CPTEC_2020041900.grib2\n",
      "Não foi possível obter o MERGE_CPTEC_2023061300.grib2.\n",
      "https://ftp.cptec.inpe.br/modelos/tempo/MERGE/GPM/HOURLY//2023/06/13/MERGE_CPTEC_2023061300.grib2\n",
      "https://ftp.cptec.inpe.br/modelos/tempo/MERGE/GPM/HOURLY//2023/06/13/MERGE_CPTEC_2023061301.grib2\n",
      "https://ftp.cptec.inpe.br/modelos/tempo/MERGE/GPM/HOURLY//2021/05/08/MERGE_CPTEC_2021050800.grib2\n",
      "https://ftp.cptec.inpe.br/modelos/tempo/MERGE/GPM/HOURLY//2022/05/27/MERGE_CPTEC_2022052700.grib2\n",
      "https://ftp.cptec.inpe.br/modelos/tempo/MERGE/GPM/HOURLY//2023/06/15/MERGE_CPTEC_2023061500.grib2\n",
      "https://ftp.cptec.inpe.br/modelos/tempo/MERGE/GPM/HOURLY//2022/05/28/MERGE_CPTEC_2022052800.grib2\n",
      "https://ftp.cptec.inpe.br/modelos/tempo/MERGE/GPM/HOURLY//2020/04/20/MERGE_CPTEC_2020042000.grib2\n",
      "https://ftp.cptec.inpe.br/modelos/tempo/MERGE/GPM/HOURLY//2021/05/09/MERGE_CPTEC_2021050900.grib2\n",
      "Não foi possível obter o MERGE_CPTEC_2023061301.grib2.\n",
      "https://ftp.cptec.inpe.br/modelos/tempo/MERGE/GPM/HOURLY//2023/06/13/MERGE_CPTEC_2023061301.grib2\n",
      "https://ftp.cptec.inpe.br/modelos/tempo/MERGE/GPM/HOURLY//2023/06/13/MERGE_CPTEC_2023061302.grib2\n",
      "https://ftp.cptec.inpe.br/modelos/tempo/MERGE/GPM/HOURLY//2023/06/16/MERGE_CPTEC_2023061600.grib2\n",
      "https://ftp.cptec.inpe.br/modelos/tempo/MERGE/GPM/HOURLY//2022/05/29/MERGE_CPTEC_2022052900.grib2\n",
      "https://ftp.cptec.inpe.br/modelos/tempo/MERGE/GPM/HOURLY//2020/04/21/MERGE_CPTEC_2020042100.grib2\n",
      "https://ftp.cptec.inpe.br/modelos/tempo/MERGE/GPM/HOURLY//2021/05/10/MERGE_CPTEC_2021051000.grib2\n",
      "https://ftp.cptec.inpe.br/modelos/tempo/MERGE/GPM/HOURLY//2023/06/17/MERGE_CPTEC_2023061700.grib2\n",
      "https://ftp.cptec.inpe.br/modelos/tempo/MERGE/GPM/HOURLY//2022/05/30/MERGE_CPTEC_2022053000.grib2\n",
      "Não foi possível obter o MERGE_CPTEC_2023061302.grib2.\n",
      "https://ftp.cptec.inpe.br/modelos/tempo/MERGE/GPM/HOURLY//2023/06/13/MERGE_CPTEC_2023061302.grib2\n",
      "https://ftp.cptec.inpe.br/modelos/tempo/MERGE/GPM/HOURLY//2023/06/13/MERGE_CPTEC_2023061303.grib2\n",
      "https://ftp.cptec.inpe.br/modelos/tempo/MERGE/GPM/HOURLY//2020/04/22/MERGE_CPTEC_2020042200.grib2\n",
      "https://ftp.cptec.inpe.br/modelos/tempo/MERGE/GPM/HOURLY//2021/05/11/MERGE_CPTEC_2021051100.grib2\n",
      "https://ftp.cptec.inpe.br/modelos/tempo/MERGE/GPM/HOURLY//2023/06/18/MERGE_CPTEC_2023061800.grib2\n",
      "https://ftp.cptec.inpe.br/modelos/tempo/MERGE/GPM/HOURLY//2020/04/23/MERGE_CPTEC_2020042300.grib2\n",
      "https://ftp.cptec.inpe.br/modelos/tempo/MERGE/GPM/HOURLY//2021/05/12/MERGE_CPTEC_2021051200.grib2\n",
      "https://ftp.cptec.inpe.br/modelos/tempo/MERGE/GPM/HOURLY//2022/05/31/MERGE_CPTEC_2022053100.grib2\n",
      "Não foi possível obter o MERGE_CPTEC_2023061303.grib2.\n",
      "https://ftp.cptec.inpe.br/modelos/tempo/MERGE/GPM/HOURLY//2023/06/13/MERGE_CPTEC_2023061303.grib2\n",
      "https://ftp.cptec.inpe.br/modelos/tempo/MERGE/GPM/HOURLY//2023/06/13/MERGE_CPTEC_2023061304.grib2\n",
      "https://ftp.cptec.inpe.br/modelos/tempo/MERGE/GPM/HOURLY//2023/06/19/MERGE_CPTEC_2023061900.grib2\n",
      "https://ftp.cptec.inpe.br/modelos/tempo/MERGE/GPM/HOURLY//2020/04/24/MERGE_CPTEC_2020042400.grib2\n",
      "https://ftp.cptec.inpe.br/modelos/tempo/MERGE/GPM/HOURLY//2021/05/13/MERGE_CPTEC_2021051300.grib2\n",
      "https://ftp.cptec.inpe.br/modelos/tempo/MERGE/GPM/HOURLY//2022/06/01/MERGE_CPTEC_2022060100.grib2\n",
      "https://ftp.cptec.inpe.br/modelos/tempo/MERGE/GPM/HOURLY//2023/06/20/MERGE_CPTEC_2023062000.grib2\n",
      "https://ftp.cptec.inpe.br/modelos/tempo/MERGE/GPM/HOURLY//2020/04/25/MERGE_CPTEC_2020042500.grib2\n",
      "Não foi possível obter o MERGE_CPTEC_2023061304.grib2.\n",
      "https://ftp.cptec.inpe.br/modelos/tempo/MERGE/GPM/HOURLY//2023/06/13/MERGE_CPTEC_2023061304.grib2\n",
      "https://ftp.cptec.inpe.br/modelos/tempo/MERGE/GPM/HOURLY//2023/06/13/MERGE_CPTEC_2023061305.grib2\n",
      "https://ftp.cptec.inpe.br/modelos/tempo/MERGE/GPM/HOURLY//2021/05/14/MERGE_CPTEC_2021051400.grib2\n",
      "https://ftp.cptec.inpe.br/modelos/tempo/MERGE/GPM/HOURLY//2022/06/02/MERGE_CPTEC_2022060200.grib2\n",
      "https://ftp.cptec.inpe.br/modelos/tempo/MERGE/GPM/HOURLY//2023/06/21/MERGE_CPTEC_2023062100.grib2\n",
      "https://ftp.cptec.inpe.br/modelos/tempo/MERGE/GPM/HOURLY//2020/04/26/MERGE_CPTEC_2020042600.grib2\n",
      "https://ftp.cptec.inpe.br/modelos/tempo/MERGE/GPM/HOURLY//2021/05/15/MERGE_CPTEC_2021051500.grib2\n",
      "https://ftp.cptec.inpe.br/modelos/tempo/MERGE/GPM/HOURLY//2022/06/03/MERGE_CPTEC_2022060300.grib2\n",
      "Não foi possível obter o MERGE_CPTEC_2023061305.grib2.\n",
      "https://ftp.cptec.inpe.br/modelos/tempo/MERGE/GPM/HOURLY//2023/06/13/MERGE_CPTEC_2023061305.grib2\n",
      "https://ftp.cptec.inpe.br/modelos/tempo/MERGE/GPM/HOURLY//2023/06/13/MERGE_CPTEC_2023061306.grib2\n",
      "https://ftp.cptec.inpe.br/modelos/tempo/MERGE/GPM/HOURLY//2023/06/22/MERGE_CPTEC_2023062200.grib2\n",
      "https://ftp.cptec.inpe.br/modelos/tempo/MERGE/GPM/HOURLY//2020/04/27/MERGE_CPTEC_2020042700.grib2\n",
      "https://ftp.cptec.inpe.br/modelos/tempo/MERGE/GPM/HOURLY//2021/05/16/MERGE_CPTEC_2021051600.grib2\n",
      "https://ftp.cptec.inpe.br/modelos/tempo/MERGE/GPM/HOURLY//2022/06/04/MERGE_CPTEC_2022060400.grib2\n",
      "https://ftp.cptec.inpe.br/modelos/tempo/MERGE/GPM/HOURLY//2023/06/23/MERGE_CPTEC_2023062300.grib2\n",
      "https://ftp.cptec.inpe.br/modelos/tempo/MERGE/GPM/HOURLY//2020/04/28/MERGE_CPTEC_2020042800.grib2\n",
      "Não foi possível obter o MERGE_CPTEC_2023061306.grib2.\n",
      "https://ftp.cptec.inpe.br/modelos/tempo/MERGE/GPM/HOURLY//2023/06/13/MERGE_CPTEC_2023061306.grib2\n",
      "https://ftp.cptec.inpe.br/modelos/tempo/MERGE/GPM/HOURLY//2023/06/13/MERGE_CPTEC_2023061307.grib2\n",
      "https://ftp.cptec.inpe.br/modelos/tempo/MERGE/GPM/HOURLY//2021/05/17/MERGE_CPTEC_2021051700.grib2\n",
      "https://ftp.cptec.inpe.br/modelos/tempo/MERGE/GPM/HOURLY//2022/06/05/MERGE_CPTEC_2022060500.grib2\n",
      "https://ftp.cptec.inpe.br/modelos/tempo/MERGE/GPM/HOURLY//2023/06/24/MERGE_CPTEC_2023062400.grib2\n",
      "https://ftp.cptec.inpe.br/modelos/tempo/MERGE/GPM/HOURLY//2020/04/29/MERGE_CPTEC_2020042900.grib2\n",
      "https://ftp.cptec.inpe.br/modelos/tempo/MERGE/GPM/HOURLY//2021/05/18/MERGE_CPTEC_2021051800.grib2\n",
      "https://ftp.cptec.inpe.br/modelos/tempo/MERGE/GPM/HOURLY//2022/06/06/MERGE_CPTEC_2022060600.grib2\n",
      "Não foi possível obter o MERGE_CPTEC_2023061307.grib2.\n",
      "https://ftp.cptec.inpe.br/modelos/tempo/MERGE/GPM/HOURLY//2023/06/13/MERGE_CPTEC_2023061307.grib2\n",
      "https://ftp.cptec.inpe.br/modelos/tempo/MERGE/GPM/HOURLY//2023/06/13/MERGE_CPTEC_2023061308.grib2\n"
     ]
    }
   ],
   "source": [
    "agendadas = set()\n",
    "\n",
    "for data in datas:\n",
    "    task = obter_merge(data)\n",
    "    agendadas.add(task)\n",
    "\n",
    "await asyncio.gather(*agendadas)"
   ]
  },
  {
   "cell_type": "markdown",
   "id": "24cefd19",
   "metadata": {},
   "source": [
    "## Abre arquivo MERGE"
   ]
  },
  {
   "cell_type": "code",
   "execution_count": 5,
   "id": "1946931e",
   "metadata": {},
   "outputs": [],
   "source": [
    "import xarray as xr\n",
    "import rioxarray\n",
    "import rasterio\n",
    "from pathlib import Path\n",
    "import geopandas as gpd"
   ]
  },
  {
   "cell_type": "markdown",
   "id": "eaecd1f6",
   "metadata": {},
   "source": [
    "## Funções"
   ]
  },
  {
   "cell_type": "code",
   "execution_count": 2,
   "id": "eb3a96c2",
   "metadata": {},
   "outputs": [],
   "source": [
    "def set_lon180(\n",
    "    da: xr.DataArray,\n",
    ") -> xr.DataArray:\n",
    "    \"\"\"Ajusta a longitude de 0-360 para -180-180.\"\"\"\n",
    "    da = da.assign_coords(longitude=(((da.longitude + 180) % 360) - 180)).sortby(\"longitude\")\n",
    "    return da\n",
    "\n",
    "\n",
    "def set_spatial_dims(\n",
    "    da: xr.DataArray,\n",
    ") -> xr.DataArray:\n",
    "    \"\"\"Define as dimensões espaciais de um DataArray Xarray.\"\"\"\n",
    "    da = da.rio.write_crs(\"EPSG:4674\")\n",
    "    da = da.rio.set_spatial_dims(x_dim=\"longitude\", y_dim=\"latitude\")\n",
    "    return da"
   ]
  },
  {
   "cell_type": "code",
   "execution_count": null,
   "id": "2ce72d27",
   "metadata": {},
   "outputs": [],
   "source": [
    "caminho_merge = Path(\"/home/rodrigocaldas/dados_tcc/MERGE/dados_brutos/MERGE_CPTEC_20190814.grib2\")\n",
    "caminho_conceicao = Path(\"/home/rodrigocaldas/dados_tcc/sub-bacias-isoladas/tocantins/conceicao_do_araguaia.shp\")"
   ]
  },
  {
   "cell_type": "code",
   "execution_count": 10,
   "id": "41601634",
   "metadata": {},
   "outputs": [
    {
     "name": "stderr",
     "output_type": "stream",
     "text": [
      "/home/rodrigocaldas/miniforge3/envs/tcc/lib/python3.12/site-packages/cfgrib/xarray_plugin.py:131: FutureWarning: In a future version, xarray will not decode timedelta values based on the presence of a timedelta-like units attribute by default. Instead it will rely on the presence of a timedelta64 dtype attribute, which is now xarray's default way of encoding timedelta64 values. To continue decoding timedeltas based on the presence of a timedelta-like units attribute, users will need to explicitly opt-in by passing True or CFTimedeltaCoder(decode_via_units=True) to decode_timedelta. To silence this warning, set decode_timedelta to True, False, or a 'CFTimedeltaCoder' instance.\n",
      "  vars, attrs, coord_names = xr.conventions.decode_cf_variables(\n"
     ]
    }
   ],
   "source": [
    "gdf = gpd.read_file(caminho_conceicao)\n",
    "gdf = gdf.set_crs(\"4674\")\n",
    "\n",
    "ds = xr.open_dataset(caminho_merge, engine=\"cfgrib\")\n",
    "ds = set_lon180(ds)\n",
    "ds = set_spatial_dims(ds)\n",
    "\n",
    "da = ds[\"prec\"]\n",
    "\n",
    "recorte = da.rio.clip(gdf.geometry, gdf.crs, drop=True)"
   ]
  },
  {
   "cell_type": "code",
   "execution_count": 11,
   "id": "8a8ff9e9",
   "metadata": {},
   "outputs": [
    {
     "data": {
      "text/plain": [
       "<matplotlib.collections.QuadMesh at 0x7f6e0b28d460>"
      ]
     },
     "execution_count": 11,
     "metadata": {},
     "output_type": "execute_result"
    },
    {
     "data": {
      "image/png": "[encoded data removed]",
      "text/plain": [
       "<Figure size 640x480 with 2 Axes>"
      ]
     },
     "metadata": {},
     "output_type": "display_data"
    }
   ],
   "source": [
    "recorte.plot()"
   ]
  }
 ],
 "metadata": {
  "kernelspec": {
   "display_name": "tcc",
   "language": "python",
   "name": "python3"
  },
  "language_info": {
   "codemirror_mode": {
    "name": "ipython",
    "version": 3
   },
   "file_extension": ".py",
   "mimetype": "text/x-python",
   "name": "python",
   "nbconvert_exporter": "python",
   "pygments_lexer": "ipython3",
   "version": "3.12.8"
  }
 },
 "nbformat": 4,
 "nbformat_minor": 5
}
